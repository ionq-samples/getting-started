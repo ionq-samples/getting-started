{
 "cells": [
  {
   "cell_type": "code",
   "execution_count": 1,
   "metadata": {},
   "outputs": [],
   "source": [
    "import time\n",
    "import requests\n",
    "import json\n",
    "import os\n",
    "from getpass import getpass\n",
    "\n",
    "# Get your API key from https://cloud.ionq.com/settings/keys\n",
    "api_key = os.getenv('IONQ_API_KEY') or getpass('Enter your IonQ API key: ')"
   ]
  },
  {
   "cell_type": "code",
   "execution_count": 2,
   "metadata": {},
   "outputs": [],
   "source": [
    "def submit_job(headers, data):\n",
    "    url = \"https://api.ionq.co/v0.3/jobs\"\n",
    "    response = requests.post(url, headers=headers, json=data)\n",
    "    response_json = response.json()\n",
    "    assert response.status_code == 200, f\"Error: {response_json.get('message', 'Unknown error')}\"\n",
    "    return response_json[\"id\"]\n",
    "\n",
    "def query_job(job_id, headers):\n",
    "    url = f\"https://api.ionq.co/v0.3/jobs/{job_id}\"\n",
    "    response = requests.get(url, headers=headers)\n",
    "    response_json = response.json()\n",
    "    assert response.status_code == 200, f\"Error: {response_json.get('message', 'Unknown error')}\"\n",
    "    return response_json[\"status\"]\n",
    "\n",
    "def get_job_results(job_id, headers):\n",
    "    url = f\"https://api.ionq.co/v0.3/jobs/{job_id}/results\"\n",
    "    response = requests.get(url, headers=headers)\n",
    "    response_json = response.json()\n",
    "    assert response.status_code == 200, f\"Error: {response_json.get('message', 'Unknown error')}\"\n",
    "    assert response_json == {\"0\": 0.500000000, \"3\": 0.500000000}, f\"Unexpected results: {response_json}\"\n",
    "    return response_json"
   ]
  },
  {
   "cell_type": "code",
   "execution_count": 3,
   "metadata": {},
   "outputs": [
    {
     "name": "stdout",
     "output_type": "stream",
     "text": [
      "{'0': 0.5, '3': 0.5}\n"
     ]
    }
   ],
   "source": [
    "with open(\"data.json\", \"r\") as file:\n",
    "    data = json.load(file)\n",
    "\n",
    "headers = {\n",
    "    \"Authorization\": f\"apiKey {api_key}\",\n",
    "    \"Content-Type\": \"application/json\",\n",
    "}\n",
    "\n",
    "job_id = submit_job(headers, data)\n",
    "\n",
    "status = \"ready\"\n",
    "while status != \"completed\":\n",
    "    time.sleep(1)  # wait for 1 second before querying again\n",
    "    status = query_job(job_id, headers)\n",
    "\n",
    "results = get_job_results(job_id, headers)\n",
    "print(results)"
   ]
  }
 ],
 "metadata": {
  "kernelspec": {
   "display_name": "base",
   "language": "python",
   "name": "python3"
  },
  "language_info": {
   "codemirror_mode": {
    "name": "ipython",
    "version": 3
   },
   "file_extension": ".py",
   "mimetype": "text/x-python",
   "name": "python",
   "nbconvert_exporter": "python",
   "pygments_lexer": "ipython3",
   "version": "3.11.3"
  },
  "orig_nbformat": 4
 },
 "nbformat": 4,
 "nbformat_minor": 2
}
