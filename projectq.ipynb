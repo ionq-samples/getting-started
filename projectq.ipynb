{
 "cells": [
  {
   "cell_type": "markdown",
   "metadata": {},
   "source": [
    "# ProjectQ\n",
    "\n",
    "[![Open in Colab](https://colab.research.google.com/assets/colab-badge.svg)](https://colab.research.google.com/github/ionq-samples/getting-started/blob/main/projectq.ipynb)\n",
    "\n",
    "[ProjectQ](https://projectq.ch/) is an open-source software framework for quantum computing that allows users to design, simulate, and optimize quantum circuits on various backends."
   ]
  },
  {
   "cell_type": "code",
   "execution_count": 1,
   "metadata": {},
   "outputs": [],
   "source": [
    "%%capture\n",
    "\n",
    "# First, we install the essential libraries to our current Python runtime.\n",
    "# \"%%capture\" (above) captures and in this case, hides the output of this \n",
    "# cell, so you can comment it out if you need help debugging this step.\n",
    "\n",
    "%pip install projectq"
   ]
  },
  {
   "cell_type": "code",
   "execution_count": 2,
   "metadata": {},
   "outputs": [],
   "source": [
    "import os\n",
    "from getpass import getpass\n",
    "\n",
    "import projectq.setups.ionq\n",
    "from projectq import MainEngine\n",
    "from projectq.backends import IonQBackend\n",
    "from projectq.libs.hist import histogram\n",
    "from projectq.ops import H, CNOT, Measure\n",
    "import matplotlib.pyplot as plt\n",
    "\n",
    "# Before you begin, get your API key from https://cloud.ionq.com/settings/keys\n",
    "\n",
    "# If your API key is stored as \"IONQ_API_KEY\" in your local environment, this\n",
    "# should find it. Otherwise you'll be prompted to enter your API key manually.\n",
    " \n",
    "token = os.getenv('IONQ_API_KEY') or getpass('Enter your IonQ API key: ')\n",
    "\n",
    "# We need to specify the device where the circuit will be executed. In this \n",
    "# case we're using the `ionq_simulator`, but if you have QPU access you can\n",
    "# specify it here to run the job on a QPU directly.\n",
    "\n",
    "device = 'ionq_simulator'\n",
    "\n",
    "backend = IonQBackend(token=token, device=device)\n",
    "compiler_engines = projectq.setups.ionq.get_engine_list(token=token, device=device)\n",
    "eng = MainEngine(backend, engine_list=compiler_engines)"
   ]
  },
  {
   "cell_type": "code",
   "execution_count": 4,
   "metadata": {},
   "outputs": [],
   "source": [
    "qubit1 = eng.allocate_qubit()  # Allocate a quantum register with 1 qubit\n",
    "qubit2 = eng.allocate_qubit()\n",
    "\n",
    "H | qubit1  # Apply a Hadamard gate\n",
    "\n",
    "CNOT | (qubit1, qubit2)  # Entangle the qubits\n",
    "\n",
    "Measure | qubit1  # Measure the qubit\n",
    "Measure | qubit2\n",
    "\n",
    "eng.flush()  # Flush all gates (and execute measurements)"
   ]
  },
  {
   "cell_type": "code",
   "execution_count": 5,
   "metadata": {},
   "outputs": [
    {
     "data": {
      "image/png": "[encoded data removed]",
      "text/plain": [
       "<Figure size 440x700 with 1 Axes>"
      ]
     },
     "metadata": {},
     "output_type": "display_data"
    }
   ],
   "source": [
    "histogram(eng.backend, qubit1 + qubit2)\n",
    "plt.show()"
   ]
  }
 ],
 "metadata": {
  "kernelspec": {
   "display_name": "Python 3 (ipykernel)",
   "language": "python",
   "name": "python3"
  },
  "language_info": {
   "codemirror_mode": {
    "name": "ipython",
    "version": 3
   },
   "file_extension": ".py",
   "mimetype": "text/x-python",
   "name": "python",
   "nbconvert_exporter": "python",
   "pygments_lexer": "ipython3",
   "version": "3.11.6"
  }
 },
 "nbformat": 4,
 "nbformat_minor": 4
}
