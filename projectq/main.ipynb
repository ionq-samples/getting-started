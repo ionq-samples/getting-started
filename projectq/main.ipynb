{
 "cells": [
  {
   "cell_type": "code",
   "execution_count": 1,
   "metadata": {},
   "outputs": [
    {
     "name": "stdout",
     "output_type": "stream",
     "text": [
      "Requirement already satisfied: projectq in /opt/homebrew/anaconda3/lib/python3.11/site-packages (0.8.0)\n",
      "Requirement already satisfied: matplotlib>=2.2.3 in /opt/homebrew/anaconda3/lib/python3.11/site-packages (from projectq) (3.7.1)\n",
      "Requirement already satisfied: networkx>=2 in /opt/homebrew/anaconda3/lib/python3.11/site-packages (from projectq) (2.8.4)\n",
      "Requirement already satisfied: numpy in /opt/homebrew/anaconda3/lib/python3.11/site-packages (from projectq) (1.23.5)\n",
      "Requirement already satisfied: requests in /opt/homebrew/anaconda3/lib/python3.11/site-packages (from projectq) (2.29.0)\n",
      "Requirement already satisfied: scipy in /opt/homebrew/anaconda3/lib/python3.11/site-packages (from projectq) (1.10.0)\n",
      "Requirement already satisfied: contourpy>=1.0.1 in /opt/homebrew/anaconda3/lib/python3.11/site-packages (from matplotlib>=2.2.3->projectq) (1.0.5)\n",
      "Requirement already satisfied: cycler>=0.10 in /opt/homebrew/anaconda3/lib/python3.11/site-packages (from matplotlib>=2.2.3->projectq) (0.11.0)\n",
      "Requirement already satisfied: fonttools>=4.22.0 in /opt/homebrew/anaconda3/lib/python3.11/site-packages (from matplotlib>=2.2.3->projectq) (4.25.0)\n",
      "Requirement already satisfied: kiwisolver>=1.0.1 in /opt/homebrew/anaconda3/lib/python3.11/site-packages (from matplotlib>=2.2.3->projectq) (1.4.4)\n",
      "Requirement already satisfied: packaging>=20.0 in /opt/homebrew/anaconda3/lib/python3.11/site-packages (from matplotlib>=2.2.3->projectq) (23.0)\n",
      "Requirement already satisfied: pillow>=6.2.0 in /opt/homebrew/anaconda3/lib/python3.11/site-packages (from matplotlib>=2.2.3->projectq) (9.4.0)\n",
      "Requirement already satisfied: pyparsing>=2.3.1 in /opt/homebrew/anaconda3/lib/python3.11/site-packages (from matplotlib>=2.2.3->projectq) (3.0.9)\n",
      "Requirement already satisfied: python-dateutil>=2.7 in /opt/homebrew/anaconda3/lib/python3.11/site-packages (from matplotlib>=2.2.3->projectq) (2.8.2)\n",
      "Requirement already satisfied: charset-normalizer<4,>=2 in /opt/homebrew/anaconda3/lib/python3.11/site-packages (from requests->projectq) (2.0.4)\n",
      "Requirement already satisfied: idna<4,>=2.5 in /opt/homebrew/anaconda3/lib/python3.11/site-packages (from requests->projectq) (3.4)\n",
      "Requirement already satisfied: urllib3<1.27,>=1.21.1 in /opt/homebrew/anaconda3/lib/python3.11/site-packages (from requests->projectq) (1.26.16)\n",
      "Requirement already satisfied: certifi>=2017.4.17 in /opt/homebrew/anaconda3/lib/python3.11/site-packages (from requests->projectq) (2023.5.7)\n",
      "Requirement already satisfied: six>=1.5 in /opt/homebrew/anaconda3/lib/python3.11/site-packages (from python-dateutil>=2.7->matplotlib>=2.2.3->projectq) (1.16.0)\n"
     ]
    }
   ],
   "source": [
    "!pip install projectq"
   ]
  },
  {
   "cell_type": "code",
   "execution_count": 2,
   "metadata": {},
   "outputs": [],
   "source": [
    "import projectq.setups.ionq\n",
    "from projectq import MainEngine\n",
    "from projectq.backends import IonQBackend\n",
    "from projectq.libs.hist import histogram\n",
    "from projectq.ops import H, Measure\n",
    "import matplotlib.pyplot as plt\n",
    "\n",
    "from getpass import getpass\n",
    "\n",
    "# get your API key from https://cloud.ionq.com/settings/keys\n",
    "token = getpass('Enter your IonQ API key: ')\n",
    "device = 'ionq_simulator'"
   ]
  },
  {
   "cell_type": "code",
   "execution_count": 3,
   "metadata": {},
   "outputs": [],
   "source": [
    "backend = IonQBackend(\n",
    "    token=token,\n",
    "    use_hardware=True,\n",
    "    num_runs=1024,\n",
    "    verbose=False,\n",
    "    device=device,\n",
    ")\n",
    "compiler_engines = projectq.setups.ionq.get_engine_list(\n",
    "    token=token,\n",
    "    device=device,\n",
    ")\n",
    "eng = MainEngine(backend, engine_list=compiler_engines)"
   ]
  },
  {
   "cell_type": "code",
   "execution_count": 4,
   "metadata": {},
   "outputs": [],
   "source": [
    "qubit = eng.allocate_qubit()  # allocate a quantum register with 1 qubit\n",
    "\n",
    "H | qubit  # apply a Hadamard gate\n",
    "Measure | qubit  # measure the qubit\n",
    "\n",
    "eng.flush()  # flush all gates (and execute measurements)"
   ]
  },
  {
   "cell_type": "code",
   "execution_count": 5,
   "metadata": {},
   "outputs": [
    {
     "data": {
      "image/png": "[encoded data removed]",
      "text/plain": [
       "<Figure size 320x700 with 1 Axes>"
      ]
     },
     "metadata": {},
     "output_type": "display_data"
    }
   ],
   "source": [
    "histogram(eng.backend, qubit)\n",
    "plt.show()"
   ]
  }
 ],
 "metadata": {
  "kernelspec": {
   "display_name": "base",
   "language": "python",
   "name": "python3"
  },
  "language_info": {
   "codemirror_mode": {
    "name": "ipython",
    "version": 3
   },
   "file_extension": ".py",
   "mimetype": "text/x-python",
   "name": "python",
   "nbconvert_exporter": "python",
   "pygments_lexer": "ipython3",
   "version": "3.11.3"
  },
  "orig_nbformat": 4
 },
 "nbformat": 4,
 "nbformat_minor": 2
}
