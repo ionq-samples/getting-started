{
 "cells": [
  {
   "cell_type": "code",
   "execution_count": null,
   "id": "151d6c64",
   "metadata": {},
   "outputs": [],
   "source": [
    "%%capture\n",
    "\n",
    "!pip install xacc"
   ]
  },
  {
   "cell_type": "code",
   "execution_count": null,
   "id": "f3042105",
   "metadata": {},
   "outputs": [],
   "source": [
    "import xacc"
   ]
  },
  {
   "cell_type": "code",
   "execution_count": null,
   "id": "66dba273",
   "metadata": {},
   "outputs": [],
   "source": [
    "ionq = xacc.getAccelerator(\"ionq:qpu\")\n",
    "compiler = xacc.getCompiler(\"xasm\")\n",
    "ir = compiler.compile(r\"\"\"__qpu__ void bell(qbit q) {\n",
    "    H(q[0]);\n",
    "    CX(q[0], q[1]);\n",
    "    Measure(q[0]);\n",
    "    Measure(q[1]);\n",
    "}\"\"\", ionq)"
   ]
  },
  {
   "cell_type": "code",
   "execution_count": null,
   "id": "7a58565e",
   "metadata": {},
   "outputs": [],
   "source": [
    "buffer = xacc.qalloc(2)\n",
    "r = ionq.execute(buffer, ir.getComposite(\"bell\"))\n",
    "results = buffer.getMeasurementCounts()\n",
    "print(results)"
   ]
  }
 ],
 "metadata": {
  "kernelspec": {
   "display_name": "Python 3 (ipykernel)",
   "language": "python",
   "name": "python3"
  },
  "language_info": {
   "codemirror_mode": {
    "name": "ipython",
    "version": 3
   },
   "file_extension": ".py",
   "mimetype": "text/x-python",
   "name": "python",
   "nbconvert_exporter": "python",
   "pygments_lexer": "ipython3",
   "version": "3.11.3"
  }
 },
 "nbformat": 4,
 "nbformat_minor": 5
}
