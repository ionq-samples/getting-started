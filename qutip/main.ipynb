{
 "cells": [
  {
   "cell_type": "code",
   "execution_count": 1,
   "id": "151d6c64",
   "metadata": {},
   "outputs": [],
   "source": [
    "%%capture\n",
    "\n",
    "!pip install qutip qutip-qip"
   ]
  },
  {
   "cell_type": "code",
   "execution_count": 2,
   "id": "f3042105",
   "metadata": {},
   "outputs": [],
   "source": [
    "from qutip_qip.circuit import QubitCircuit\n",
    "from qutip_qip.ionq import IonqCircuitSimulator\n",
    "\n",
    "import os\n",
    "from getpass import getpass\n",
    "\n",
    "# Get your API key from https://cloud.ionq.com/settings/keys\n",
    "api_key = os.getenv('IONQ_API_KEY') or getpass('Enter your IonQ API key: ')"
   ]
  },
  {
   "cell_type": "code",
   "execution_count": 3,
   "id": "bd2c2829",
   "metadata": {},
   "outputs": [],
   "source": [
    "qc = QubitCircuit(2)\n",
    "qc.add_gate(\"H\", 0)\n",
    "qc.add_gate(\"CX\", 1, 0)"
   ]
  },
  {
   "cell_type": "code",
   "execution_count": 4,
   "id": "09166bbb",
   "metadata": {},
   "outputs": [
    {
     "data": {
      "image/png": "[encoded data removed]",
      "text/plain": [
       "<IPython.core.display.Image object>"
      ]
     },
     "execution_count": 4,
     "metadata": {},
     "output_type": "execute_result"
    }
   ],
   "source": [
    "qc.png"
   ]
  },
  {
   "cell_type": "code",
   "execution_count": 5,
   "id": "6aa9658d",
   "metadata": {},
   "outputs": [
    {
     "name": "stdout",
     "output_type": "stream",
     "text": [
      "{'00': 0.5, '11': 0.5}\n"
     ]
    }
   ],
   "source": [
    "backend = IonqCircuitSimulator()\n",
    "job = backend.run(qc)\n",
    "print(job.result().get_counts())"
   ]
  }
 ],
 "metadata": {
  "kernelspec": {
   "display_name": "Python 3 (ipykernel)",
   "language": "python",
   "name": "python3"
  },
  "language_info": {
   "codemirror_mode": {
    "name": "ipython",
    "version": 3
   },
   "file_extension": ".py",
   "mimetype": "text/x-python",
   "name": "python",
   "nbconvert_exporter": "python",
   "pygments_lexer": "ipython3",
   "version": "3.11.3"
  }
 },
 "nbformat": 4,
 "nbformat_minor": 5
}
