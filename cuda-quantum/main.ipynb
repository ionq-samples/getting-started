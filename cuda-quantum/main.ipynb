{
 "cells": [
  {
   "cell_type": "code",
   "execution_count": 1,
   "metadata": {},
   "outputs": [],
   "source": [
    "%%capture\n",
    "\n",
    "!pip install cuda-quantum"
   ]
  },
  {
   "cell_type": "code",
   "execution_count": 2,
   "metadata": {},
   "outputs": [],
   "source": [
    "import cudaq\n",
    "\n",
    "from getpass import getpass\n",
    "import os\n",
    "\n",
    "api_key = os.environ.get('IONQ_API_KEY') or getpass('Enter your IonQ API key: ')\n",
    "os.environ['IONQ_API_KEY'] = api_key  # Remove when set_target takes api_key\n",
    "cudaq.set_target('ionq', qpu='simulator')"
   ]
  },
  {
   "cell_type": "code",
   "execution_count": 3,
   "metadata": {},
   "outputs": [
    {
     "name": "stdout",
     "output_type": "stream",
     "text": [
      "{ 3:50 0:50 }\n",
      "\n"
     ]
    }
   ],
   "source": [
    "# Define the kernel and allocate two qubits\n",
    "kernel = cudaq.make_kernel()\n",
    "qubits = kernel.qalloc(2)\n",
    "\n",
    "# Apply a Hadamard gate to the first qubit\n",
    "kernel.h(qubits[0])\n",
    "\n",
    "# Apply a CX gate from the first to second qubit\n",
    "kernel.cx(qubits[0], qubits[1])\n",
    "\n",
    "# Execute the kernel on the computer and print the result\n",
    "print(cudaq.sample(kernel))"
   ]
  }
 ],
 "metadata": {
  "kernelspec": {
   "display_name": "Python 3 (ipykernel)",
   "language": "python",
   "name": "python3"
  },
  "language_info": {
   "codemirror_mode": {
    "name": "ipython",
    "version": 3
   },
   "file_extension": ".py",
   "mimetype": "text/x-python",
   "name": "python",
   "nbconvert_exporter": "python",
   "pygments_lexer": "ipython3",
   "version": "3.10.6"
  },
  "orig_nbformat": 4
 },
 "nbformat": 4,
 "nbformat_minor": 2
}
