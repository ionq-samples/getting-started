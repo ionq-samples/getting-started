{
 "cells": [
  {
   "cell_type": "code",
   "execution_count": 1,
   "metadata": {},
   "outputs": [
    {
     "name": "stdout",
     "output_type": "stream",
     "text": [
      "env: IONQ_API_KEY=enter_key_here\n"
     ]
    }
   ],
   "source": [
    "import cudaq\n",
    "\n",
    "%env IONQ_API_KEY enter_key_here\n",
    "cudaq.set_target('ionq')"
   ]
  },
  {
   "cell_type": "code",
   "execution_count": 2,
   "metadata": {},
   "outputs": [
    {
     "name": "stdout",
     "output_type": "stream",
     "text": [
      "{ 3:50 0:50 }\n",
      "\n"
     ]
    }
   ],
   "source": [
    "# Define the kernel and allocate two qubits\n",
    "kernel = cudaq.make_kernel()\n",
    "qubits = kernel.qalloc(2)\n",
    "\n",
    "# Apply a Hadamard gate to the first qubit\n",
    "kernel.h(qubits[0])\n",
    "\n",
    "# Apply a CX gate from the first to second qubit\n",
    "kernel.cx(qubits[0], qubits[1])\n",
    "\n",
    "# Execute the kernel on the computer and print the result\n",
    "print(cudaq.sample(kernel))"
   ]
  }
 ],
 "metadata": {
  "kernelspec": {
   "display_name": "Python 3 (ipykernel)",
   "language": "python",
   "name": "python3"
  },
  "orig_nbformat": 4
 },
 "nbformat": 4,
 "nbformat_minor": 2
}
