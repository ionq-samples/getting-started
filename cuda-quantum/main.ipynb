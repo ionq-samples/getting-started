{
 "cells": [
  {
   "cell_type": "code",
   "execution_count": 1,
   "metadata": {},
   "outputs": [
    {
     "name": "stdout",
     "output_type": "stream",
     "text": [
      "env: IONQ_API_KEY=enter_key_here\n"
     ]
    }
   ],
   "source": [
    "import cudaq\n",
    "\n",
    "%env IONQ_API_KEY enter_key_here\n",
    "cudaq.set_target('ionq')"
   ]
  },
  {
   "cell_type": "code",
   "execution_count": 2,
   "metadata": {},
   "outputs": [
    {
     "name": "stdout",
     "output_type": "stream",
     "text": [
      "{ 1:50 0:50 }\n"
     ]
    }
   ],
   "source": [
    "# Define the kernel, allocate a single qubit, apply various gates, and measure\n",
    "kernel = cudaq.make_kernel()\n",
    "qubit = kernel.qalloc()\n",
    "\n",
    "# Apply a Hadamard gate to the qubit\n",
    "kernel.h(qubit)\n",
    "\n",
    "# Execute the kernel on the simulator and print the result\n",
    "print(cudaq.sample(kernel))"
   ]
  }
 ],
 "metadata": {
  "kernelspec": {
   "display_name": "Python 3",
   "language": "python",
   "name": "python3"
  },
  "language_info": {
   "codemirror_mode": {
    "name": "ipython",
    "version": 3
   },
   "file_extension": ".py",
   "mimetype": "text/x-python",
   "name": "python",
   "nbconvert_exporter": "python",
   "pygments_lexer": "ipython3",
   "version": "3.11.3"
  },
  "orig_nbformat": 4
 },
 "nbformat": 4,
 "nbformat_minor": 2
}
