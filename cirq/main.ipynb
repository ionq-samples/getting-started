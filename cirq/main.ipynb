{
 "cells": [
  {
   "cell_type": "code",
   "execution_count": 1,
   "metadata": {},
   "outputs": [
    {
     "name": "stdout",
     "output_type": "stream",
     "text": [
      "Requirement already satisfied: cirq in /opt/homebrew/anaconda3/lib/python3.11/site-packages (1.2.0)\n",
      "Requirement already satisfied: cirq_ionq in /opt/homebrew/anaconda3/lib/python3.11/site-packages (1.2.0)\n",
      "Requirement already satisfied: matplotlib in /opt/homebrew/anaconda3/lib/python3.11/site-packages (3.7.1)\n",
      "Requirement already satisfied: cirq-aqt==1.2.0 in /opt/homebrew/anaconda3/lib/python3.11/site-packages (from cirq) (1.2.0)\n",
      "Requirement already satisfied: cirq-core==1.2.0 in /opt/homebrew/anaconda3/lib/python3.11/site-packages (from cirq) (1.2.0)\n",
      "Requirement already satisfied: cirq-ft==1.2.0 in /opt/homebrew/anaconda3/lib/python3.11/site-packages (from cirq) (1.2.0)\n",
      "Requirement already satisfied: cirq-google==1.2.0 in /opt/homebrew/anaconda3/lib/python3.11/site-packages (from cirq) (1.2.0)\n",
      "Requirement already satisfied: cirq-pasqal==1.2.0 in /opt/homebrew/anaconda3/lib/python3.11/site-packages (from cirq) (1.2.0)\n",
      "Requirement already satisfied: cirq-rigetti==1.2.0 in /opt/homebrew/anaconda3/lib/python3.11/site-packages (from cirq) (1.2.0)\n",
      "Requirement already satisfied: cirq-web==1.2.0 in /opt/homebrew/anaconda3/lib/python3.11/site-packages (from cirq) (1.2.0)\n",
      "Requirement already satisfied: requests~=2.18 in /opt/homebrew/anaconda3/lib/python3.11/site-packages (from cirq_ionq) (2.29.0)\n",
      "Requirement already satisfied: duet~=0.2.8 in /opt/homebrew/anaconda3/lib/python3.11/site-packages (from cirq-core==1.2.0->cirq) (0.2.8)\n",
      "Requirement already satisfied: networkx>=2.4 in /opt/homebrew/anaconda3/lib/python3.11/site-packages (from cirq-core==1.2.0->cirq) (2.8.4)\n",
      "Requirement already satisfied: numpy~=1.16 in /opt/homebrew/anaconda3/lib/python3.11/site-packages (from cirq-core==1.2.0->cirq) (1.23.5)\n",
      "Requirement already satisfied: pandas in /opt/homebrew/anaconda3/lib/python3.11/site-packages (from cirq-core==1.2.0->cirq) (1.5.3)\n",
      "Requirement already satisfied: sortedcontainers~=2.0 in /opt/homebrew/anaconda3/lib/python3.11/site-packages (from cirq-core==1.2.0->cirq) (2.4.0)\n",
      "Requirement already satisfied: scipy in /opt/homebrew/anaconda3/lib/python3.11/site-packages (from cirq-core==1.2.0->cirq) (1.10.1)\n",
      "Requirement already satisfied: sympy in /opt/homebrew/anaconda3/lib/python3.11/site-packages (from cirq-core==1.2.0->cirq) (1.11.1)\n",
      "Requirement already satisfied: typing-extensions>=4.2 in /opt/homebrew/anaconda3/lib/python3.11/site-packages (from cirq-core==1.2.0->cirq) (4.6.3)\n",
      "Requirement already satisfied: tqdm in /opt/homebrew/anaconda3/lib/python3.11/site-packages (from cirq-core==1.2.0->cirq) (4.65.0)\n",
      "Requirement already satisfied: attrs in /opt/homebrew/anaconda3/lib/python3.11/site-packages (from cirq-ft==1.2.0->cirq) (21.4.0)\n",
      "Requirement already satisfied: cachetools>=5.3 in /opt/homebrew/anaconda3/lib/python3.11/site-packages (from cirq-ft==1.2.0->cirq) (5.3.1)\n",
      "Requirement already satisfied: ipywidgets in /opt/homebrew/anaconda3/lib/python3.11/site-packages (from cirq-ft==1.2.0->cirq) (8.0.4)\n",
      "Requirement already satisfied: nbconvert in /opt/homebrew/anaconda3/lib/python3.11/site-packages (from cirq-ft==1.2.0->cirq) (6.5.4)\n",
      "Requirement already satisfied: nbformat in /opt/homebrew/anaconda3/lib/python3.11/site-packages (from cirq-ft==1.2.0->cirq) (5.7.0)\n",
      "Requirement already satisfied: google-api-core[grpc]>=1.14.0 in /opt/homebrew/anaconda3/lib/python3.11/site-packages (from cirq-google==1.2.0->cirq) (2.11.1)\n",
      "Requirement already satisfied: proto-plus>=1.20.0 in /opt/homebrew/anaconda3/lib/python3.11/site-packages (from cirq-google==1.2.0->cirq) (1.22.3)\n",
      "Requirement already satisfied: protobuf>=3.15.0 in /opt/homebrew/anaconda3/lib/python3.11/site-packages (from cirq-google==1.2.0->cirq) (4.23.4)\n",
      "Requirement already satisfied: pyquil~=3.2.0 in /opt/homebrew/anaconda3/lib/python3.11/site-packages (from cirq-rigetti==1.2.0->cirq) (3.2.1)\n",
      "Requirement already satisfied: contourpy>=1.0.1 in /opt/homebrew/anaconda3/lib/python3.11/site-packages (from matplotlib) (1.0.5)\n",
      "Requirement already satisfied: cycler>=0.10 in /opt/homebrew/anaconda3/lib/python3.11/site-packages (from matplotlib) (0.11.0)\n",
      "Requirement already satisfied: fonttools>=4.22.0 in /opt/homebrew/anaconda3/lib/python3.11/site-packages (from matplotlib) (4.25.0)\n",
      "Requirement already satisfied: kiwisolver>=1.0.1 in /opt/homebrew/anaconda3/lib/python3.11/site-packages (from matplotlib) (1.4.4)\n",
      "Requirement already satisfied: packaging>=20.0 in /opt/homebrew/anaconda3/lib/python3.11/site-packages (from matplotlib) (23.0)\n",
      "Requirement already satisfied: pillow>=6.2.0 in /opt/homebrew/anaconda3/lib/python3.11/site-packages (from matplotlib) (9.4.0)\n",
      "Requirement already satisfied: pyparsing>=2.3.1 in /opt/homebrew/anaconda3/lib/python3.11/site-packages (from matplotlib) (3.0.9)\n",
      "Requirement already satisfied: python-dateutil>=2.7 in /opt/homebrew/anaconda3/lib/python3.11/site-packages (from matplotlib) (2.8.2)\n",
      "Requirement already satisfied: six>=1.5 in /opt/homebrew/anaconda3/lib/python3.11/site-packages (from python-dateutil>=2.7->matplotlib) (1.16.0)\n",
      "Requirement already satisfied: charset-normalizer<4,>=2 in /opt/homebrew/anaconda3/lib/python3.11/site-packages (from requests~=2.18->cirq_ionq) (2.0.4)\n",
      "Requirement already satisfied: idna<4,>=2.5 in /opt/homebrew/anaconda3/lib/python3.11/site-packages (from requests~=2.18->cirq_ionq) (3.4)\n",
      "Requirement already satisfied: urllib3<1.27,>=1.21.1 in /opt/homebrew/anaconda3/lib/python3.11/site-packages (from requests~=2.18->cirq_ionq) (1.26.16)\n",
      "Requirement already satisfied: certifi>=2017.4.17 in /opt/homebrew/anaconda3/lib/python3.11/site-packages (from requests~=2.18->cirq_ionq) (2023.5.7)\n",
      "Requirement already satisfied: googleapis-common-protos<2.0.dev0,>=1.56.2 in /opt/homebrew/anaconda3/lib/python3.11/site-packages (from google-api-core[grpc]>=1.14.0->cirq-google==1.2.0->cirq) (1.59.1)\n",
      "Requirement already satisfied: google-auth<3.0.dev0,>=2.14.1 in /opt/homebrew/anaconda3/lib/python3.11/site-packages (from google-api-core[grpc]>=1.14.0->cirq-google==1.2.0->cirq) (2.22.0)\n",
      "Requirement already satisfied: grpcio<2.0dev,>=1.33.2 in /opt/homebrew/anaconda3/lib/python3.11/site-packages (from google-api-core[grpc]>=1.14.0->cirq-google==1.2.0->cirq) (1.56.2)\n",
      "Requirement already satisfied: grpcio-status<2.0.dev0,>=1.33.2 in /opt/homebrew/anaconda3/lib/python3.11/site-packages (from google-api-core[grpc]>=1.14.0->cirq-google==1.2.0->cirq) (1.56.2)\n",
      "Requirement already satisfied: lark<0.12.0,>=0.11.1 in /opt/homebrew/anaconda3/lib/python3.11/site-packages (from pyquil~=3.2.0->cirq-rigetti==1.2.0->cirq) (0.11.3)\n",
      "Requirement already satisfied: qcs-api-client<0.22.0,>=0.20.13 in /opt/homebrew/anaconda3/lib/python3.11/site-packages (from pyquil~=3.2.0->cirq-rigetti==1.2.0->cirq) (0.21.5)\n",
      "Requirement already satisfied: retry<0.10.0,>=0.9.2 in /opt/homebrew/anaconda3/lib/python3.11/site-packages (from pyquil~=3.2.0->cirq-rigetti==1.2.0->cirq) (0.9.2)\n",
      "Requirement already satisfied: rpcq<4.0.0,>=3.10.0 in /opt/homebrew/anaconda3/lib/python3.11/site-packages (from pyquil~=3.2.0->cirq-rigetti==1.2.0->cirq) (3.11.0)\n",
      "Requirement already satisfied: ipykernel>=4.5.1 in /opt/homebrew/anaconda3/lib/python3.11/site-packages (from ipywidgets->cirq-ft==1.2.0->cirq) (6.19.2)\n",
      "Requirement already satisfied: ipython>=6.1.0 in /opt/homebrew/anaconda3/lib/python3.11/site-packages (from ipywidgets->cirq-ft==1.2.0->cirq) (8.12.0)\n",
      "Requirement already satisfied: traitlets>=4.3.1 in /opt/homebrew/anaconda3/lib/python3.11/site-packages (from ipywidgets->cirq-ft==1.2.0->cirq) (5.7.1)\n",
      "Requirement already satisfied: widgetsnbextension~=4.0 in /opt/homebrew/anaconda3/lib/python3.11/site-packages (from ipywidgets->cirq-ft==1.2.0->cirq) (4.0.5)\n",
      "Requirement already satisfied: jupyterlab-widgets~=3.0 in /opt/homebrew/anaconda3/lib/python3.11/site-packages (from ipywidgets->cirq-ft==1.2.0->cirq) (3.0.5)\n",
      "Requirement already satisfied: lxml in /opt/homebrew/anaconda3/lib/python3.11/site-packages (from nbconvert->cirq-ft==1.2.0->cirq) (4.9.2)\n",
      "Requirement already satisfied: beautifulsoup4 in /opt/homebrew/anaconda3/lib/python3.11/site-packages (from nbconvert->cirq-ft==1.2.0->cirq) (4.12.2)\n",
      "Requirement already satisfied: bleach in /opt/homebrew/anaconda3/lib/python3.11/site-packages (from nbconvert->cirq-ft==1.2.0->cirq) (4.1.0)\n",
      "Requirement already satisfied: defusedxml in /opt/homebrew/anaconda3/lib/python3.11/site-packages (from nbconvert->cirq-ft==1.2.0->cirq) (0.7.1)\n",
      "Requirement already satisfied: entrypoints>=0.2.2 in /opt/homebrew/anaconda3/lib/python3.11/site-packages (from nbconvert->cirq-ft==1.2.0->cirq) (0.4)\n",
      "Requirement already satisfied: jinja2>=3.0 in /opt/homebrew/anaconda3/lib/python3.11/site-packages (from nbconvert->cirq-ft==1.2.0->cirq) (3.1.2)\n",
      "Requirement already satisfied: jupyter-core>=4.7 in /opt/homebrew/anaconda3/lib/python3.11/site-packages (from nbconvert->cirq-ft==1.2.0->cirq) (5.3.0)\n",
      "Requirement already satisfied: jupyterlab-pygments in /opt/homebrew/anaconda3/lib/python3.11/site-packages (from nbconvert->cirq-ft==1.2.0->cirq) (0.1.2)\n",
      "Requirement already satisfied: MarkupSafe>=2.0 in /opt/homebrew/anaconda3/lib/python3.11/site-packages (from nbconvert->cirq-ft==1.2.0->cirq) (2.1.1)\n",
      "Requirement already satisfied: mistune<2,>=0.8.1 in /opt/homebrew/anaconda3/lib/python3.11/site-packages (from nbconvert->cirq-ft==1.2.0->cirq) (0.8.4)\n",
      "Requirement already satisfied: nbclient>=0.5.0 in /opt/homebrew/anaconda3/lib/python3.11/site-packages (from nbconvert->cirq-ft==1.2.0->cirq) (0.5.13)\n",
      "Requirement already satisfied: pandocfilters>=1.4.1 in /opt/homebrew/anaconda3/lib/python3.11/site-packages (from nbconvert->cirq-ft==1.2.0->cirq) (1.5.0)\n",
      "Requirement already satisfied: pygments>=2.4.1 in /opt/homebrew/anaconda3/lib/python3.11/site-packages (from nbconvert->cirq-ft==1.2.0->cirq) (2.15.1)\n",
      "Requirement already satisfied: tinycss2 in /opt/homebrew/anaconda3/lib/python3.11/site-packages (from nbconvert->cirq-ft==1.2.0->cirq) (1.2.1)\n",
      "Requirement already satisfied: fastjsonschema in /opt/homebrew/anaconda3/lib/python3.11/site-packages (from nbformat->cirq-ft==1.2.0->cirq) (2.16.2)\n",
      "Requirement already satisfied: jsonschema>=2.6 in /opt/homebrew/anaconda3/lib/python3.11/site-packages (from nbformat->cirq-ft==1.2.0->cirq) (4.17.3)\n",
      "Requirement already satisfied: pytz>=2020.1 in /opt/homebrew/anaconda3/lib/python3.11/site-packages (from pandas->cirq-core==1.2.0->cirq) (2022.7)\n",
      "Requirement already satisfied: mpmath>=0.19 in /opt/homebrew/anaconda3/lib/python3.11/site-packages (from sympy->cirq-core==1.2.0->cirq) (1.2.1)\n",
      "Requirement already satisfied: pyasn1-modules>=0.2.1 in /opt/homebrew/anaconda3/lib/python3.11/site-packages (from google-auth<3.0.dev0,>=2.14.1->google-api-core[grpc]>=1.14.0->cirq-google==1.2.0->cirq) (0.2.8)\n",
      "Requirement already satisfied: rsa<5,>=3.1.4 in /opt/homebrew/anaconda3/lib/python3.11/site-packages (from google-auth<3.0.dev0,>=2.14.1->google-api-core[grpc]>=1.14.0->cirq-google==1.2.0->cirq) (4.9)\n",
      "Requirement already satisfied: appnope in /opt/homebrew/anaconda3/lib/python3.11/site-packages (from ipykernel>=4.5.1->ipywidgets->cirq-ft==1.2.0->cirq) (0.1.2)\n",
      "Requirement already satisfied: comm>=0.1.1 in /opt/homebrew/anaconda3/lib/python3.11/site-packages (from ipykernel>=4.5.1->ipywidgets->cirq-ft==1.2.0->cirq) (0.1.2)\n",
      "Requirement already satisfied: debugpy>=1.0 in /opt/homebrew/anaconda3/lib/python3.11/site-packages (from ipykernel>=4.5.1->ipywidgets->cirq-ft==1.2.0->cirq) (1.5.1)\n",
      "Requirement already satisfied: jupyter-client>=6.1.12 in /opt/homebrew/anaconda3/lib/python3.11/site-packages (from ipykernel>=4.5.1->ipywidgets->cirq-ft==1.2.0->cirq) (8.1.0)\n",
      "Requirement already satisfied: matplotlib-inline>=0.1 in /opt/homebrew/anaconda3/lib/python3.11/site-packages (from ipykernel>=4.5.1->ipywidgets->cirq-ft==1.2.0->cirq) (0.1.6)\n",
      "Requirement already satisfied: nest-asyncio in /opt/homebrew/anaconda3/lib/python3.11/site-packages (from ipykernel>=4.5.1->ipywidgets->cirq-ft==1.2.0->cirq) (1.5.6)\n",
      "Requirement already satisfied: psutil in /opt/homebrew/anaconda3/lib/python3.11/site-packages (from ipykernel>=4.5.1->ipywidgets->cirq-ft==1.2.0->cirq) (5.9.0)\n",
      "Requirement already satisfied: pyzmq>=17 in /opt/homebrew/anaconda3/lib/python3.11/site-packages (from ipykernel>=4.5.1->ipywidgets->cirq-ft==1.2.0->cirq) (25.1.0)\n",
      "Requirement already satisfied: tornado>=6.1 in /opt/homebrew/anaconda3/lib/python3.11/site-packages (from ipykernel>=4.5.1->ipywidgets->cirq-ft==1.2.0->cirq) (6.2)\n",
      "Requirement already satisfied: backcall in /opt/homebrew/anaconda3/lib/python3.11/site-packages (from ipython>=6.1.0->ipywidgets->cirq-ft==1.2.0->cirq) (0.2.0)\n",
      "Requirement already satisfied: decorator in /opt/homebrew/anaconda3/lib/python3.11/site-packages (from ipython>=6.1.0->ipywidgets->cirq-ft==1.2.0->cirq) (5.1.1)\n",
      "Requirement already satisfied: jedi>=0.16 in /opt/homebrew/anaconda3/lib/python3.11/site-packages (from ipython>=6.1.0->ipywidgets->cirq-ft==1.2.0->cirq) (0.18.1)\n",
      "Requirement already satisfied: pickleshare in /opt/homebrew/anaconda3/lib/python3.11/site-packages (from ipython>=6.1.0->ipywidgets->cirq-ft==1.2.0->cirq) (0.7.5)\n",
      "Requirement already satisfied: prompt-toolkit!=3.0.37,<3.1.0,>=3.0.30 in /opt/homebrew/anaconda3/lib/python3.11/site-packages (from ipython>=6.1.0->ipywidgets->cirq-ft==1.2.0->cirq) (3.0.36)\n",
      "Requirement already satisfied: stack-data in /opt/homebrew/anaconda3/lib/python3.11/site-packages (from ipython>=6.1.0->ipywidgets->cirq-ft==1.2.0->cirq) (0.2.0)\n",
      "Requirement already satisfied: pexpect>4.3 in /opt/homebrew/anaconda3/lib/python3.11/site-packages (from ipython>=6.1.0->ipywidgets->cirq-ft==1.2.0->cirq) (4.8.0)\n",
      "Requirement already satisfied: pyrsistent!=0.17.0,!=0.17.1,!=0.17.2,>=0.14.0 in /opt/homebrew/anaconda3/lib/python3.11/site-packages (from jsonschema>=2.6->nbformat->cirq-ft==1.2.0->cirq) (0.18.0)\n",
      "Requirement already satisfied: platformdirs>=2.5 in /opt/homebrew/anaconda3/lib/python3.11/site-packages (from jupyter-core>=4.7->nbconvert->cirq-ft==1.2.0->cirq) (2.5.2)\n",
      "Requirement already satisfied: PyJWT<3.0.0,>=2.4.0 in /opt/homebrew/anaconda3/lib/python3.11/site-packages (from qcs-api-client<0.22.0,>=0.20.13->pyquil~=3.2.0->cirq-rigetti==1.2.0->cirq) (2.4.0)\n",
      "Requirement already satisfied: httpx<0.24.0,>=0.23.0 in /opt/homebrew/anaconda3/lib/python3.11/site-packages (from qcs-api-client<0.22.0,>=0.20.13->pyquil~=3.2.0->cirq-rigetti==1.2.0->cirq) (0.23.3)\n",
      "Requirement already satisfied: iso8601<2.0.0,>=1.0.2 in /opt/homebrew/anaconda3/lib/python3.11/site-packages (from qcs-api-client<0.22.0,>=0.20.13->pyquil~=3.2.0->cirq-rigetti==1.2.0->cirq) (1.1.0)\n",
      "Requirement already satisfied: pydantic<2.0.0,>=1.7.2 in /opt/homebrew/anaconda3/lib/python3.11/site-packages (from qcs-api-client<0.22.0,>=0.20.13->pyquil~=3.2.0->cirq-rigetti==1.2.0->cirq) (1.10.11)\n",
      "Requirement already satisfied: retrying<2.0.0,>=1.3.3 in /opt/homebrew/anaconda3/lib/python3.11/site-packages (from qcs-api-client<0.22.0,>=0.20.13->pyquil~=3.2.0->cirq-rigetti==1.2.0->cirq) (1.3.4)\n",
      "Requirement already satisfied: rfc3339<7.0,>=6.2 in /opt/homebrew/anaconda3/lib/python3.11/site-packages (from qcs-api-client<0.22.0,>=0.20.13->pyquil~=3.2.0->cirq-rigetti==1.2.0->cirq) (6.2)\n",
      "Requirement already satisfied: toml<0.11.0,>=0.10.2 in /opt/homebrew/anaconda3/lib/python3.11/site-packages (from qcs-api-client<0.22.0,>=0.20.13->pyquil~=3.2.0->cirq-rigetti==1.2.0->cirq) (0.10.2)\n",
      "Requirement already satisfied: py<2.0.0,>=1.4.26 in /opt/homebrew/anaconda3/lib/python3.11/site-packages (from retry<0.10.0,>=0.9.2->pyquil~=3.2.0->cirq-rigetti==1.2.0->cirq) (1.11.0)\n",
      "Requirement already satisfied: msgpack<2.0,>=0.6 in /opt/homebrew/anaconda3/lib/python3.11/site-packages (from rpcq<4.0.0,>=3.10.0->pyquil~=3.2.0->cirq-rigetti==1.2.0->cirq) (1.0.3)\n",
      "Requirement already satisfied: python-rapidjson in /opt/homebrew/anaconda3/lib/python3.11/site-packages (from rpcq<4.0.0,>=3.10.0->pyquil~=3.2.0->cirq-rigetti==1.2.0->cirq) (1.10)\n",
      "Requirement already satisfied: ruamel.yaml in /opt/homebrew/anaconda3/lib/python3.11/site-packages (from rpcq<4.0.0,>=3.10.0->pyquil~=3.2.0->cirq-rigetti==1.2.0->cirq) (0.17.21)\n",
      "Requirement already satisfied: soupsieve>1.2 in /opt/homebrew/anaconda3/lib/python3.11/site-packages (from beautifulsoup4->nbconvert->cirq-ft==1.2.0->cirq) (2.4)\n",
      "Requirement already satisfied: webencodings in /opt/homebrew/anaconda3/lib/python3.11/site-packages (from bleach->nbconvert->cirq-ft==1.2.0->cirq) (0.5.1)\n",
      "Requirement already satisfied: httpcore<0.17.0,>=0.15.0 in /opt/homebrew/anaconda3/lib/python3.11/site-packages (from httpx<0.24.0,>=0.23.0->qcs-api-client<0.22.0,>=0.20.13->pyquil~=3.2.0->cirq-rigetti==1.2.0->cirq) (0.16.3)\n",
      "Requirement already satisfied: rfc3986[idna2008]<2,>=1.3 in /opt/homebrew/anaconda3/lib/python3.11/site-packages (from httpx<0.24.0,>=0.23.0->qcs-api-client<0.22.0,>=0.20.13->pyquil~=3.2.0->cirq-rigetti==1.2.0->cirq) (1.5.0)\n",
      "Requirement already satisfied: sniffio in /opt/homebrew/anaconda3/lib/python3.11/site-packages (from httpx<0.24.0,>=0.23.0->qcs-api-client<0.22.0,>=0.20.13->pyquil~=3.2.0->cirq-rigetti==1.2.0->cirq) (1.2.0)\n",
      "Requirement already satisfied: parso<0.9.0,>=0.8.0 in /opt/homebrew/anaconda3/lib/python3.11/site-packages (from jedi>=0.16->ipython>=6.1.0->ipywidgets->cirq-ft==1.2.0->cirq) (0.8.3)\n",
      "Requirement already satisfied: ptyprocess>=0.5 in /opt/homebrew/anaconda3/lib/python3.11/site-packages (from pexpect>4.3->ipython>=6.1.0->ipywidgets->cirq-ft==1.2.0->cirq) (0.7.0)\n",
      "Requirement already satisfied: wcwidth in /opt/homebrew/anaconda3/lib/python3.11/site-packages (from prompt-toolkit!=3.0.37,<3.1.0,>=3.0.30->ipython>=6.1.0->ipywidgets->cirq-ft==1.2.0->cirq) (0.2.5)\n",
      "Requirement already satisfied: pyasn1<0.5.0,>=0.4.6 in /opt/homebrew/anaconda3/lib/python3.11/site-packages (from pyasn1-modules>=0.2.1->google-auth<3.0.dev0,>=2.14.1->google-api-core[grpc]>=1.14.0->cirq-google==1.2.0->cirq) (0.4.8)\n",
      "Requirement already satisfied: executing in /opt/homebrew/anaconda3/lib/python3.11/site-packages (from stack-data->ipython>=6.1.0->ipywidgets->cirq-ft==1.2.0->cirq) (0.8.3)\n",
      "Requirement already satisfied: asttokens in /opt/homebrew/anaconda3/lib/python3.11/site-packages (from stack-data->ipython>=6.1.0->ipywidgets->cirq-ft==1.2.0->cirq) (2.0.5)\n",
      "Requirement already satisfied: pure-eval in /opt/homebrew/anaconda3/lib/python3.11/site-packages (from stack-data->ipython>=6.1.0->ipywidgets->cirq-ft==1.2.0->cirq) (0.2.2)\n",
      "Requirement already satisfied: h11<0.15,>=0.13 in /opt/homebrew/anaconda3/lib/python3.11/site-packages (from httpcore<0.17.0,>=0.15.0->httpx<0.24.0,>=0.23.0->qcs-api-client<0.22.0,>=0.20.13->pyquil~=3.2.0->cirq-rigetti==1.2.0->cirq) (0.14.0)\n",
      "Requirement already satisfied: anyio<5.0,>=3.0 in /opt/homebrew/anaconda3/lib/python3.11/site-packages (from httpcore<0.17.0,>=0.15.0->httpx<0.24.0,>=0.23.0->qcs-api-client<0.22.0,>=0.20.13->pyquil~=3.2.0->cirq-rigetti==1.2.0->cirq) (3.5.0)\n"
     ]
    }
   ],
   "source": [
    "!pip install cirq cirq_ionq matplotlib"
   ]
  },
  {
   "cell_type": "code",
   "execution_count": 2,
   "metadata": {},
   "outputs": [],
   "source": [
    "import cirq\n",
    "import cirq_ionq\n",
    "import matplotlib.pyplot as plt\n",
    "\n",
    "from getpass import getpass\n",
    "\n",
    "# get your API key from https://cloud.ionq.com/settings/keys\n",
    "api_key = getpass('Enter your IonQ API key: ')\n",
    "service = cirq_ionq.Service(api_key=api_key, default_target='simulator')"
   ]
  },
  {
   "cell_type": "code",
   "execution_count": 3,
   "metadata": {},
   "outputs": [],
   "source": [
    "q0, q1 = cirq.LineQubit.range(2)\n",
    "circuit = cirq.Circuit(\n",
    "    cirq.X(q0) ** 0.5,            # Square root of X\n",
    "    cirq.CX(q0, q1),              # CNOT\n",
    "    cirq.measure(q0, q1, key='b') # Measure both qubits\n",
    ")"
   ]
  },
  {
   "cell_type": "code",
   "execution_count": 4,
   "metadata": {},
   "outputs": [
    {
     "data": {
      "image/png": "[encoded data removed]",
      "text/plain": [
       "<Figure size 640x480 with 1 Axes>"
      ]
     },
     "metadata": {},
     "output_type": "display_data"
    }
   ],
   "source": [
    "result = service.run(circuit, repetitions=100)\n",
    "_ = cirq.plot_state_histogram(result, plt.subplot())\n",
    "plt.show()"
   ]
  }
 ],
 "metadata": {
  "language_info": {
   "name": "python"
  },
  "orig_nbformat": 4
 },
 "nbformat": 4,
 "nbformat_minor": 2
}
