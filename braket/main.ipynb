{
 "cells": [
  {
   "cell_type": "code",
   "execution_count": 1,
   "id": "151d6c64",
   "metadata": {},
   "outputs": [],
   "source": [
    "%%capture\n",
    "\n",
    "!pip install amazon-braket-sdk"
   ]
  },
  {
   "cell_type": "code",
   "execution_count": 2,
   "id": "ff988bb3",
   "metadata": {},
   "outputs": [],
   "source": [
    "from braket.circuits import Circuit"
   ]
  },
  {
   "cell_type": "code",
   "execution_count": 3,
   "id": "b7dd4b92",
   "metadata": {},
   "outputs": [
    {
     "name": "stdout",
     "output_type": "stream",
     "text": [
      "T  : |0|1|\n",
      "          \n",
      "q0 : -H-C-\n",
      "        | \n",
      "q1 : ---X-\n",
      "\n",
      "T  : |0|1|\n"
     ]
    }
   ],
   "source": [
    "qc = Circuit()\n",
    "qc.h(0)\n",
    "qc.cnot(control=0, target=1)\n",
    "\n",
    "print(qc)"
   ]
  },
  {
   "cell_type": "code",
   "execution_count": null,
   "id": "7c83f913",
   "metadata": {},
   "outputs": [],
   "source": [
    "device = AwsDevice(\"arn:aws:braket:::device/qpu/ionq/ionQdevice\")\n",
    "\n",
    "# Enter the name of S3 bucket you created earlier\n",
    "my_bucket = \"amazon-braket-Your-Bucket-Name\" # the name of the bucket\n",
    "my_prefix = \"Your-Folder-Name\" # the name of the folder in the bucket\n",
    "s3_folder = (my_bucket, my_prefix)"
   ]
  },
  {
   "cell_type": "code",
   "execution_count": null,
   "id": "4e02b63e",
   "metadata": {},
   "outputs": [],
   "source": [
    "result = device.run(qc, s3_folder, shots=1000).result()\n",
    "\n",
    "# Get measurement counts\n",
    "counts = result.measurement_counts\n",
    "print(counts)"
   ]
  }
 ],
 "metadata": {
  "kernelspec": {
   "display_name": "Python 3 (ipykernel)",
   "language": "python",
   "name": "python3"
  },
  "language_info": {
   "codemirror_mode": {
    "name": "ipython",
    "version": 3
   },
   "file_extension": ".py",
   "mimetype": "text/x-python",
   "name": "python",
   "nbconvert_exporter": "python",
   "pygments_lexer": "ipython3",
   "version": "3.11.3"
  }
 },
 "nbformat": 4,
 "nbformat_minor": 5
}
