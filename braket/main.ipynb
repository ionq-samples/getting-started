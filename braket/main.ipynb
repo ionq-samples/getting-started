{
 "cells": [
  {
   "cell_type": "code",
   "execution_count": null,
   "id": "151d6c64",
   "metadata": {},
   "outputs": [],
   "source": [
    "%%capture\n",
    "\n",
    "!pip install amazon-braket-sdk"
   ]
  },
  {
   "cell_type": "code",
   "execution_count": null,
   "id": "ff988bb3",
   "metadata": {},
   "outputs": [],
   "source": [
    "from braket.circuits import Circuit\n",
    "from braket.aws import AwsDevice\n",
    "\n",
    "device = AwsDevice(\"arn:aws:braket:::device/qpu/ionq/ionQdevice\")"
   ]
  },
  {
   "cell_type": "code",
   "execution_count": null,
   "id": "b7dd4b92",
   "metadata": {},
   "outputs": [],
   "source": [
    "qc = Circuit()\n",
    "qc.h(0)\n",
    "qc.cnot(0, 1)\n",
    "\n",
    "print(qc)"
   ]
  },
  {
   "cell_type": "code",
   "execution_count": null,
   "id": "4e02b63e",
   "metadata": {},
   "outputs": [],
   "source": [
    "task = device.run(bell, shots=100)\n",
    "print(task.result().measurement_counts)"
   ]
  }
 ],
 "metadata": {
  "kernelspec": {
   "display_name": "Python 3 (ipykernel)",
   "language": "python",
   "name": "python3"
  },
  "language_info": {
   "codemirror_mode": {
    "name": "ipython",
    "version": 3
   },
   "file_extension": ".py",
   "mimetype": "text/x-python",
   "name": "python",
   "nbconvert_exporter": "python",
   "pygments_lexer": "ipython3",
   "version": "3.11.3"
  }
 },
 "nbformat": 4,
 "nbformat_minor": 5
}
