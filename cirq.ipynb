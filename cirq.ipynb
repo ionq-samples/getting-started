{
 "cells": [
  {
   "cell_type": "markdown",
   "metadata": {},
   "source": [
    "# Cirq\n",
    "\n",
    "[![Open in Colab](https://colab.research.google.com/assets/colab-badge.svg)](https://colab.research.google.com/github/ionq-samples/getting-started/blob/main/cirq.ipynb)\n",
    "\n",
    "[Cirq](https://github.com/quantumlib/Cirq) is a Python library for writing, manipulating, and optimizing quantum circuits and running them against quantum computers and simulators. It is designed to be flexible, and is suitable for use in a variety of quantum computing tasks."
   ]
  },
  {
   "cell_type": "code",
   "execution_count": 4,
   "metadata": {},
   "outputs": [],
   "source": [
    "%%capture\n",
    "\n",
    "# First, we install the essential libraries to our current Python runtime.\n",
    "# \"%%capture\" (above) captures and in this case, hides the output of this \n",
    "# cell, so you can comment it out if you need help debugging this step.\n",
    "\n",
    "%pip install cirq cirq_ionq matplotlib"
   ]
  },
  {
   "cell_type": "code",
   "execution_count": 5,
   "metadata": {},
   "outputs": [],
   "source": [
    "import cirq, cirq_ionq, matplotlib.pyplot as plt, os\n",
    "from getpass import getpass\n",
    "\n",
    "# Before you begin, get your API key from https://cloud.ionq.com/settings/keys\n",
    "\n",
    "# If your API key is stored as \"IONQ_API_KEY\" in your local environment, this\n",
    "# should find it. Otherwise you'll be prompted to enter your API key manually.\n",
    "\n",
    "api_key = os.getenv('IONQ_API_KEY') or getpass('Enter your IonQ API key: ')\n",
    "\n",
    "service = cirq_ionq.Service(api_key=api_key, default_target='simulator')"
   ]
  },
  {
   "cell_type": "code",
   "execution_count": 8,
   "metadata": {},
   "outputs": [],
   "source": [
    "# Now we set up our circuit. In this case, we're creating a circuit with two\n",
    "# qubits, applying an H gate to qubit-0, a CXGate to both, then measuring.\n",
    "\n",
    "q0, q1 = cirq.LineQubit.range(2)\n",
    "circuit = cirq.Circuit(\n",
    "    cirq.H(q0),           # H\n",
    "    cirq.CX(q0, q1),      # CNOT\n",
    "    cirq.measure(q0, q1)  # Measure both qubits\n",
    ")"
   ]
  },
  {
   "cell_type": "code",
   "execution_count": null,
   "metadata": {},
   "outputs": [
    {
     "name": "stdout",
     "output_type": "stream",
     "text": [
      "0: ───H───@───M───\n",
      "          │   │\n",
      "1: ───────X───M───\n"
     ]
    }
   ],
   "source": [
    "# Before submitting the job, we can visualize the circuit using print().\n",
    "\n",
    "print(circuit)"
   ]
  },
  {
   "cell_type": "code",
   "execution_count": null,
   "metadata": {},
   "outputs": [
    {
     "data": {
      "image/png": "[encoded data removed]",
      "text/plain": [
       "<Figure size 640x480 with 1 Axes>"
      ]
     },
     "metadata": {},
     "output_type": "display_data"
    }
   ],
   "source": [
    "result = service.run(circuit, name=\"Cirq example\", repetitions=100)\n",
    "_ = cirq.plot_state_histogram(result, plt.subplot())\n",
    "plt.show()"
   ]
  }
 ],
 "metadata": {
  "kernelspec": {
   "display_name": "Python 3 (ipykernel)",
   "language": "python",
   "name": "python3"
  },
  "language_info": {
   "codemirror_mode": {
    "name": "ipython",
    "version": 3
   },
   "file_extension": ".py",
   "mimetype": "text/x-python",
   "name": "python",
   "nbconvert_exporter": "python",
   "pygments_lexer": "ipython3",
   "version": "3.11.8"
  }
 },
 "nbformat": 4,
 "nbformat_minor": 4
}
