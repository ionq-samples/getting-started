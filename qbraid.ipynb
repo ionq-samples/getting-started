{
 "cells": [
  {
   "cell_type": "markdown",
   "metadata": {},
   "source": [
    "# qBraid\n",
    "\n",
    "[![Open in Colab](https://colab.research.google.com/assets/colab-badge.svg)](https://colab.research.google.com/github/ionq-samples/getting-started/blob/main/qbraid.ipynb)\n",
    "\n",
    "[qBraid](https://github.com/qBraid/qBraid) is platform-agnostic quantum runtime framework. Distinguishing itself through a streamlined and highly-configurable approach to cross-platform integration, the qBraid-SDK does not assume a fixed target software framework. Instead, it allows providers to dynamically register any desired run input program type as the target, depending on their specific needs."
   ]
  },
  {
   "cell_type": "code",
   "execution_count": 1,
   "metadata": {},
   "outputs": [],
   "source": [
    "%%capture\n",
    "\n",
    "# First, we install the essential libraries to our current Python runtime.\n",
    "# \"%%capture\" (above) captures and in this case, hides the output of this\n",
    "# cell, so you can comment it out if you need help debugging this step.\n",
    "\n",
    "%pip install 'qbraid[runtime]' matplotlib"
   ]
  },
  {
   "cell_type": "code",
   "execution_count": 2,
   "metadata": {},
   "outputs": [],
   "source": [
    "import os\n",
    "from getpass import getpass\n",
    "from qbraid.runtime.ionq import IonQProvider\n",
    "\n",
    "# Before you begin, get your API key from https://cloud.ionq.com/settings/keys\n",
    "\n",
    "# If your API key is stored as \"IONQ_API_KEY\" in your local environment, this\n",
    "# should find it. Otherwise you'll be prompted to enter your API key manually.\n",
    "\n",
    "api_key = os.getenv(\"IONQ_API_KEY\") or getpass(\"Enter your IonQ API key: \")\n",
    "\n",
    "provider = IonQProvider(api_key=api_key)"
   ]
  },
  {
   "cell_type": "code",
   "execution_count": 3,
   "metadata": {},
   "outputs": [],
   "source": [
    "# Now we set up our circuit. In this case, we're creating a circuit with two\n",
    "# qubits, applying an H gate to qubit-0, a CXGate to both,.\n",
    "\n",
    "program = \"\"\"\n",
    "OPENQASM 3;\n",
    "include \"stdgates.inc\";\n",
    "qubit[2] q;\n",
    "h q[0];\n",
    "cx q[0], q[1];\n",
    "\"\"\""
   ]
  },
  {
   "cell_type": "code",
   "execution_count": 4,
   "metadata": {},
   "outputs": [
    {
     "name": "stdout",
     "output_type": "stream",
     "text": [
      "     |---|\n",
      "q0---| h |-----■---\n",
      "     |---|     |\n",
      "            |----|\n",
      "q1----------| cx |-\n",
      "            |----|\n"
     ]
    }
   ],
   "source": [
    "# Before submitting the job, we can visualize the circuit using qasm3_drawer().\n",
    "from qbraid.visualization import qasm3_drawer\n",
    "\n",
    "qasm3_drawer(program)"
   ]
  },
  {
   "cell_type": "code",
   "execution_count": 5,
   "metadata": {},
   "outputs": [
    {
     "name": "stdout",
     "output_type": "stream",
     "text": [
      "{'00': 50, '11': 50}\n"
     ]
    }
   ],
   "source": [
    "device = provider.get_device(\"simulator\")\n",
    "job = device.run(program, name=\"qBraid example\", shots=100)\n",
    "results = job.result()\n",
    "\n",
    "counts = results.measurement_counts()\n",
    "\n",
    "print(counts)"
   ]
  },
  {
   "cell_type": "code",
   "execution_count": 6,
   "metadata": {},
   "outputs": [
    {
     "data": {
      "image/png": "[encoded data removed]",
      "text/plain": [
       "<Figure size 640x480 with 1 Axes>"
      ]
     },
     "metadata": {},
     "output_type": "display_data"
    }
   ],
   "source": [
    "from qbraid.visualization import plot_histogram\n",
    "\n",
    "plot_histogram(counts)"
   ]
  }
 ],
 "metadata": {
  "kernelspec": {
   "display_name": "Python 3 (ipykernel)",
   "language": "python",
   "name": "python3"
  },
  "language_info": {
   "codemirror_mode": {
    "name": "ipython",
    "version": 3
   },
   "file_extension": ".py",
   "mimetype": "text/x-python",
   "name": "python",
   "nbconvert_exporter": "python",
   "pygments_lexer": "ipython3",
   "version": "3.11.7"
  }
 },
 "nbformat": 4,
 "nbformat_minor": 4
}
