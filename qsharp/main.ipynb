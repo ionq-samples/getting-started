{
 "cells": [
  {
   "cell_type": "code",
   "execution_count": 1,
   "id": "151d6c64",
   "metadata": {},
   "outputs": [],
   "source": [
    "%%capture\n",
    "\n",
    "!pip install qsharp"
   ]
  },
  {
   "cell_type": "code",
   "execution_count": 2,
   "id": "f3042105",
   "metadata": {},
   "outputs": [],
   "source": [
    "import qsharp\n",
    "import qsharp.azure\n",
    "from Bell import MeasureEntanglement\n",
    "\n",
    "qsharp.azure.connect(\n",
    "    resourceId=\"the name of your quantum resource\",\n",
    "    location=\"East US\",\n",
    ")\n",
    "qsharp.azure.target(\"ionq.qpu\")"
   ]
  },
  {
   "cell_type": "code",
   "execution_count": null,
   "id": "19020254",
   "metadata": {},
   "outputs": [],
   "source": [
    "result = qsharp.azure.execute(MeasureEntanglement, shots=1000, jobName=\"Bell\")\n",
    "print(result)"
   ]
  }
 ],
 "metadata": {
  "kernelspec": {
   "display_name": "Python 3 (ipykernel)",
   "language": "python",
   "name": "python3"
  },
  "language_info": {
   "codemirror_mode": {
    "name": "ipython",
    "version": 3
   },
   "file_extension": ".py",
   "mimetype": "text/x-python",
   "name": "python",
   "nbconvert_exporter": "python",
   "pygments_lexer": "ipython3",
   "version": "3.11.3"
  }
 },
 "nbformat": 4,
 "nbformat_minor": 5
}
