{
 "cells": [
  {
   "cell_type": "markdown",
   "metadata": {},
   "source": [
    "# Direct API Access\n",
    "\n",
    "[![Open in Colab](https://colab.research.google.com/assets/colab-badge.svg)](https://colab.research.google.com/github/ionq-samples/getting-started/blob/main/api.ipynb)\n",
    "\n",
    "IonQ offers a set of API resources that allow you to submit and manage jobs directly. This notebook offers a few simple examples, but visit [docs.ionq.com](https://docs.ionq.com) for a complete guide with additional resources and functionality."
   ]
  },
  {
   "cell_type": "code",
   "execution_count": 2,
   "metadata": {},
   "outputs": [],
   "source": [
    "import json, os, requests, time\n",
    "from getpass import getpass\n",
    "\n",
    "# Before you begin, get your API key from https://cloud.ionq.com/settings/keys\n",
    "\n",
    "# If your API key is stored as \"IONQ_API_KEY\" in your local environment, this\n",
    "# should find it. Otherwise you'll be prompted to enter your API key manually.\n",
    "\n",
    "api_key = os.getenv('IONQ_API_KEY') or getpass('Enter your IonQ API key: ')"
   ]
  },
  {
   "cell_type": "code",
   "execution_count": 3,
   "metadata": {},
   "outputs": [],
   "source": [
    "def submit_job(headers, data):\n",
    "    url = \"https://api.ionq.co/v0.3/jobs\"\n",
    "    response = requests.post(url, headers=headers, data=data)\n",
    "    response_json = response.json()\n",
    "    assert response.status_code == 200, f\"Error: {response_json.get('message', 'Unknown error')}\"\n",
    "    return response_json[\"id\"]\n",
    "\n",
    "def query_job(job_id, headers):\n",
    "    url = f\"https://api.ionq.co/v0.3/jobs/{job_id}\"\n",
    "    response = requests.get(url, headers=headers)\n",
    "    response_json = response.json()\n",
    "    assert response.status_code == 200, f\"Error: {response_json.get('message', 'Unknown error')}\"\n",
    "    return response_json[\"status\"]\n",
    "\n",
    "def get_job_results(job_id, headers):\n",
    "    url = f\"https://api.ionq.co/v0.3/jobs/{job_id}/results\"\n",
    "    response = requests.get(url, headers=headers)\n",
    "    response_json = response.json()\n",
    "    assert response.status_code == 200, f\"Error: {response_json.get('message', 'Unknown error')}\"\n",
    "    return response_json"
   ]
  },
  {
   "cell_type": "code",
   "execution_count": 4,
   "metadata": {},
   "outputs": [],
   "source": [
    "headers = {\n",
    "    \"Authorization\": f\"apiKey {api_key}\",\n",
    "    \"Content-Type\": \"application/json\",\n",
    "}\n",
    "\n",
    "data = {\n",
    "    \"name\": \"API Example Circuit\",\n",
    "    \"shots\": 100,\n",
    "    \"target\": \"simulator\",\n",
    "    \"input\": {\n",
    "        \"format\": \"ionq.circuit.v0\",\n",
    "        \"gateset\": \"qis\",\n",
    "        \"qubits\": 2,\n",
    "        \"circuit\": [\n",
    "            {\n",
    "                \"gate\": \"h\",\n",
    "                \"target\": 0\n",
    "            },\n",
    "            {\n",
    "                \"gate\": \"cnot\",\n",
    "                \"control\": 0,\n",
    "                \"target\": 1\n",
    "            }\n",
    "        ]\n",
    "    }\n",
    "}\n",
    "\n"
   ]
  },
  {
   "cell_type": "markdown",
   "metadata": {},
   "source": [
    "```json\n",
    "{\n",
    "    \"shots\": 100,\n",
    "    \"target\": \"simulator\",\n",
    "    \"input\": {\n",
    "        \"format\": \"ionq.circuit.v0\",\n",
    "        \"gateset\": \"qis\",\n",
    "        \"qubits\": 2,\n",
    "        \"circuit\": [\n",
    "            {\n",
    "                \"gate\": \"h\",\n",
    "                \"target\": 0\n",
    "            },\n",
    "            {\n",
    "                \"gate\": \"cnot\",\n",
    "                \"control\": 0,\n",
    "                \"target\": 1\n",
    "            }\n",
    "        ]\n",
    "    }\n",
    "}\n",
    "```"
   ]
  },
  {
   "cell_type": "code",
   "execution_count": 5,
   "metadata": {},
   "outputs": [
    {
     "name": "stdout",
     "output_type": "stream",
     "text": [
      "{'0': 0.5, '3': 0.5}\n"
     ]
    }
   ],
   "source": [
    "# Now we'll send the job to our backend for processing.\n",
    "\n",
    "job_id = submit_job(headers, json.dumps(data))\n",
    "\n",
    "# And wait for the job to be run.\n",
    "\n",
    "status = \"ready\"\n",
    "while status != \"completed\":\n",
    "    time.sleep(1)  # wait for 1 second before querying again\n",
    "    status = query_job(job_id, headers)\n",
    "\n",
    "# And once the job has run, we can plot the results.\n",
    "\n",
    "results = get_job_results(job_id, headers)\n",
    "print(results)"
   ]
  },
  {
   "cell_type": "markdown",
   "metadata": {},
   "source": [
    "## And that's a wrap!\n",
    "\n",
    "To explore more of IonQ's APIs, check out the complete docs at https://docs.ionq.com/"
   ]
  }
 ],
 "metadata": {
  "kernelspec": {
   "display_name": "base",
   "language": "python",
   "name": "python3"
  },
  "language_info": {
   "codemirror_mode": {
    "name": "ipython",
    "version": 3
   },
   "file_extension": ".py",
   "mimetype": "text/x-python",
   "name": "python",
   "nbconvert_exporter": "python",
   "pygments_lexer": "ipython3",
   "version": "3.11.8"
  },
  "orig_nbformat": 4
 },
 "nbformat": 4,
 "nbformat_minor": 2
}
