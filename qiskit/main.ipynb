{
 "cells": [
  {
   "cell_type": "markdown",
   "id": "9e46b037",
   "metadata": {},
   "source": [
    "# Qiskit\n",
    "\n",
    "[![Open in Colab](https://colab.research.google.com/assets/colab-badge.svg)](https://colab.research.google.com/github/ionq-samples/getting-started/blob/main/qiskit/main.ipynb)\n",
    "\n",
    "[Qiskit](https://qiskit.org/) is an open-source SDK for working with quantum computers at the level of extended quantum circuits, operators, and primitives. In this example, we'll import the required libraries, set up a basic quantum circuit, draw it "
   ]
  },
  {
   "cell_type": "code",
   "execution_count": 18,
   "id": "151d6c64",
   "metadata": {},
   "outputs": [],
   "source": [
    "%%capture\n",
    "\n",
    "# First, we install the essential libraries to our current Python runtime.\n",
    "# \"%%capture\" (above) captures and in this case, hides the output of this \n",
    "# cell, so you can comment it out if you need help debugging this step.\n",
    "\n",
    "%pip install qiskit qiskit_ionq matplotlib pylatexenc"
   ]
  },
  {
   "cell_type": "code",
   "execution_count": 19,
   "id": "f3042105",
   "metadata": {},
   "outputs": [],
   "source": [
    "import os, qiskit_ionq\n",
    "from getpass import getpass\n",
    "\n",
    "# If your API key is stored as \"IONQ_API_KEY\" in your local environment, this\n",
    "# should find it. Otherwise you'll be prompted to enter your API key manually.\n",
    "\n",
    "api_key = os.getenv('IONQ_API_KEY') or getpass('Enter your IonQ API key: ')\n",
    "provider = qiskit_ionq.IonQProvider(api_key)\n",
    "\n",
    "# We need to specify a backend, which is where the circuit will be executed. In\n",
    "# this case we're using the `ionq_simulator`, but if you have QPU access you\n",
    "# can specify it here to run the job on a QPU directly.\n",
    "\n",
    "backend = provider.get_backend('ionq_simulator')"
   ]
  },
  {
   "cell_type": "code",
   "execution_count": 3,
   "id": "bd2c2829",
   "metadata": {},
   "outputs": [],
   "source": [
    "from qiskit import QuantumCircuit\n",
    "\n",
    "# Now we set up our circuit. In this case, we're creating a circuit with two\n",
    "# qubits, applying an H gate to qubit-0, a CXGate to both, then measuring.\n",
    "\n",
    "qc = QuantumCircuit(2)\n",
    "qc.h(0)\n",
    "qc.cx(0, 1)\n",
    "qc.measure_all()"
   ]
  },
  {
   "cell_type": "code",
   "execution_count": 20,
   "id": "09166bbb",
   "metadata": {},
   "outputs": [
    {
     "data": {
      "text/html": [
       "<pre style=\"word-wrap: normal;white-space: pre;background: #fff0;line-height: 1.1;font-family: &quot;Courier New&quot;,Courier,monospace\">        ┌───┐      ░ ┌─┐   \n",
       "   q_0: ┤ H ├──■───░─┤M├───\n",
       "        └───┘┌─┴─┐ ░ └╥┘┌─┐\n",
       "   q_1: ─────┤ X ├─░──╫─┤M├\n",
       "             └───┘ ░  ║ └╥┘\n",
       "meas: 2/══════════════╩══╩═\n",
       "                      0  1 </pre>"
      ],
      "text/plain": [
       "        ┌───┐      ░ ┌─┐   \n",
       "   q_0: ┤ H ├──■───░─┤M├───\n",
       "        └───┘┌─┴─┐ ░ └╥┘┌─┐\n",
       "   q_1: ─────┤ X ├─░──╫─┤M├\n",
       "             └───┘ ░  ║ └╥┘\n",
       "meas: 2/══════════════╩══╩═\n",
       "                      0  1 "
      ]
     },
     "execution_count": 20,
     "metadata": {},
     "output_type": "execute_result"
    }
   ],
   "source": [
    "# Beofre submitting the job, we can visualize the circuit using draw(). \n",
    "\n",
    "qc.draw()\n",
    "qc.draw('mpl')"
   ]
  },
  {
   "cell_type": "code",
   "execution_count": 5,
   "id": "6aa9658d",
   "metadata": {},
   "outputs": [
    {
     "data": {
      "image/png": "[encoded data removed]",
      "text/plain": [
       "<Figure size 700x500 with 1 Axes>"
      ]
     },
     "execution_count": 5,
     "metadata": {},
     "output_type": "execute_result"
    }
   ],
   "source": [
    "from qiskit.visualization import plot_histogram\n",
    "\n",
    "job = backend.run(qc)\n",
    "plot_histogram(job.result().get_counts())"
   ]
  }
 ],
 "metadata": {
  "kernelspec": {
   "display_name": "Python 3 (ipykernel)",
   "language": "python",
   "name": "python3"
  },
  "language_info": {
   "codemirror_mode": {
    "name": "ipython",
    "version": 3
   },
   "file_extension": ".py",
   "mimetype": "text/x-python",
   "name": "python",
   "nbconvert_exporter": "python",
   "pygments_lexer": "ipython3",
   "version": "3.11.6"
  }
 },
 "nbformat": 4,
 "nbformat_minor": 5
}
