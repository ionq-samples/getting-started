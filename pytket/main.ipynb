{
 "cells": [
  {
   "cell_type": "code",
   "execution_count": 3,
   "id": "151d6c64",
   "metadata": {},
   "outputs": [],
   "source": [
    "%%capture\n",
    "\n",
    "!pip install pytket pytket-ionq"
   ]
  },
  {
   "cell_type": "code",
   "execution_count": 7,
   "id": "f3042105",
   "metadata": {},
   "outputs": [],
   "source": [
    "from pytket import Circuit\n",
    "from pytket.extensions.ionq import IonQBackend\n",
    "\n",
    "import os\n",
    "from getpass import getpass\n",
    "\n",
    "# Get your API key from https://cloud.ionq.com/settings/keys\n",
    "api_key = os.getenv('IONQ_API_KEY') or getpass('Enter your IonQ API key: ')\n",
    "backend = IonQBackend(api_key=api_key, device_name=\"simulator\")"
   ]
  },
  {
   "cell_type": "code",
   "execution_count": 8,
   "id": "bd2c2829",
   "metadata": {},
   "outputs": [
    {
     "data": {
      "text/plain": [
       "[H q[0]; CX q[0], q[1]; Measure q[0] --> c[0]; Measure q[1] --> c[1]; ]"
      ]
     },
     "execution_count": 8,
     "metadata": {},
     "output_type": "execute_result"
    }
   ],
   "source": [
    "qc = Circuit(2, 2)\n",
    "qc.H(0)\n",
    "qc.CX(0, 1)\n",
    "qc.measure_all()"
   ]
  },
  {
   "cell_type": "code",
   "execution_count": 10,
   "id": "6aa9658d",
   "metadata": {},
   "outputs": [
    {
     "name": "stdout",
     "output_type": "stream",
     "text": [
      "Counter({(0, 0): 55, (1, 1): 45})\n"
     ]
    }
   ],
   "source": [
    "backend.get_compiled_circuit(qc)\n",
    "handle = backend.process_circuit(qc, 100)\n",
    "counts = backend.get_result(handle).get_counts()\n",
    "print(counts)"
   ]
  }
 ],
 "metadata": {
  "kernelspec": {
   "display_name": "Python 3 (ipykernel)",
   "language": "python",
   "name": "python3"
  },
  "language_info": {
   "codemirror_mode": {
    "name": "ipython",
    "version": 3
   },
   "file_extension": ".py",
   "mimetype": "text/x-python",
   "name": "python",
   "nbconvert_exporter": "python",
   "pygments_lexer": "ipython3",
   "version": "3.11.3"
  }
 },
 "nbformat": 4,
 "nbformat_minor": 5
}
